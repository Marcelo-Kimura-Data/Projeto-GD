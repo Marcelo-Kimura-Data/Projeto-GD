{
 "cells": [
  {
   "cell_type": "code",
   "execution_count": 0,
   "metadata": {
    "application/vnd.databricks.v1+cell": {
     "cellMetadata": {
      "byteLimit": 2048000,
      "rowLimit": 10000
     },
     "inputWidgets": {},
     "nuid": "5d5a03bb-ec7e-4f0f-ab1d-83ef31003f48",
     "showTitle": false,
     "tableResultSettingsMap": {},
     "title": ""
    }
   },
   "outputs": [],
   "source": [
    "# Importação de bibliotecas:\n",
    "\n",
    "from pyspark.sql.functions import current_timestamp, expr\n",
    "from pyspark.sql.types import StructType, StructField, StringType\n"
   ]
  },
  {
   "cell_type": "code",
   "execution_count": 0,
   "metadata": {
    "application/vnd.databricks.v1+cell": {
     "cellMetadata": {
      "byteLimit": 2048000,
      "rowLimit": 10000
     },
     "inputWidgets": {},
     "nuid": "9e47ce45-cb13-4d1c-a9fc-13f644ba7975",
     "showTitle": false,
     "tableResultSettingsMap": {},
     "title": ""
    }
   },
   "outputs": [],
   "source": [
    "schema_bronze = StructType([\n",
    "    StructField(\"id_envio\", StringType(), True),\n",
    "    StructField(\"corredor_de_armazenagem\", StringType(), True),\n",
    "    StructField(\"metodo_de_envio\", StringType(), True),\n",
    "    StructField(\"ligações_do_cliente\", StringType(), True),\n",
    "    StructField(\"avaliação_do_cliente\", StringType(), True),\n",
    "    StructField(\"preço\", StringType(), True),\n",
    "    StructField(\"qtd_itens\", StringType(), True),\n",
    "    StructField(\"importancia\", StringType(), True),\n",
    "    StructField(\"genero\", StringType(), True),\n",
    "    StructField(\"desconto\", StringType(), True),\n",
    "    StructField(\"peso_g\", StringType(), True),\n",
    "    StructField(\"Chegou_no_tempo\", StringType(), True),\n",
    "    StructField(\"Destino\", StringType(), True),\n",
    "    StructField(\"DataEnvio\", StringType(), True),\n",
    "    StructField(\"dataEntrega\", StringType(), True),\n",
    "    StructField(\"avaliacaoEntrega\", StringType(), True)\n",
    "])"
   ]
  },
  {
   "cell_type": "code",
   "execution_count": 0,
   "metadata": {
    "application/vnd.databricks.v1+cell": {
     "cellMetadata": {
      "byteLimit": 2048000,
      "rowLimit": 10000
     },
     "inputWidgets": {},
     "nuid": "f931a34d-daa0-41a7-8cde-e343b27eefde",
     "showTitle": false,
     "tableResultSettingsMap": {},
     "title": ""
    }
   },
   "outputs": [],
   "source": [
    "# Importação dos dados de um banco S3 da Amazon:\n",
    "\n",
    "df_bronze = spark.read.csv(\n",
    "        \"s3a://grao-direto-mmk/raw/grain_logistic_shipping.csv\",\n",
    "        header=True,\n",
    "        sep=\";\",\n",
    "        schema=schema\n",
    "    )\n"
   ]
  },
  {
   "cell_type": "code",
   "execution_count": 0,
   "metadata": {
    "application/vnd.databricks.v1+cell": {
     "cellMetadata": {
      "byteLimit": 2048000,
      "rowLimit": 10000
     },
     "inputWidgets": {},
     "nuid": "3dfe5416-76cb-40ab-9783-28edddd6a3a4",
     "showTitle": false,
     "tableResultSettingsMap": {},
     "title": ""
    }
   },
   "outputs": [],
   "source": [
    "if df_bronze.schema == schema_bronze:\n",
    "    print(\"Schema da Bronze OK!\")\n",
    "else:\n",
    "    print(\"Schema da Bronze NÃO bate com o esperado!\")"
   ]
  },
  {
   "cell_type": "code",
   "execution_count": 0,
   "metadata": {
    "application/vnd.databricks.v1+cell": {
     "cellMetadata": {
      "byteLimit": 2048000,
      "rowLimit": 10000
     },
     "inputWidgets": {},
     "nuid": "cfdc5b65-9fbd-4ece-af64-8d136cde2479",
     "showTitle": false,
     "tableResultSettingsMap": {},
     "title": ""
    }
   },
   "outputs": [],
   "source": [
    "# Adicionando coluna de Data e Hora da Carga:\n",
    "\n",
    "df_bronze = (df_bronze\n",
    "            .withColumn('data_hora_carga', \n",
    "            expr('current_timestamp() - INTERVAL 3 HOURS'))\n",
    "        )\n",
    "\n",
    "print(\"Schema da Bronze:\")\n",
    "df_bronze.printSchema()"
   ]
  },
  {
   "cell_type": "code",
   "execution_count": 0,
   "metadata": {
    "application/vnd.databricks.v1+cell": {
     "cellMetadata": {
      "byteLimit": 2048000,
      "rowLimit": 10000
     },
     "inputWidgets": {},
     "nuid": "b4349046-8bd7-4579-8175-a930048bbc15",
     "showTitle": false,
     "tableResultSettingsMap": {},
     "title": ""
    }
   },
   "outputs": [],
   "source": [
    "# (Opcional) Salvando arquivo na camada bronze no S3\n",
    "# OBS: Isso gera um save a mais!\n",
    "\n",
    "'''\n",
    "df_bronze.write \\\n",
    "    .format(\"delta\") \\\n",
    "    .mode(\"overwrite\") \\\n",
    "    .option(\"mergeSchema\", \"true\") \\\n",
    "    .save(\"s3a://grao-direto-mmk/bronze/grain_logistic_shipping\")\n",
    "'''"
   ]
  },
  {
   "cell_type": "code",
   "execution_count": 0,
   "metadata": {
    "application/vnd.databricks.v1+cell": {
     "cellMetadata": {
      "byteLimit": 2048000,
      "rowLimit": 10000
     },
     "inputWidgets": {},
     "nuid": "880e74ac-62b9-4b8d-976e-4dc7013b0d09",
     "showTitle": false,
     "tableResultSettingsMap": {},
     "title": ""
    }
   },
   "outputs": [],
   "source": [
    "# Criação de um Database Bronze no Delta Lake \n",
    "# Criação da tabela Bronze no Delta Lake no WorkSpace do Databricks;\n",
    "\n",
    "df_bronze.write.format(\"delta\")\\\n",
    "            .option(\"mergeSchema\", \"true\") \\\n",
    "            .mode(\"overwrite\") \\\n",
    "            .saveAsTable(\"bronze.grain_logistic_shipping\")\n"
   ]
  },
  {
   "cell_type": "code",
   "execution_count": 0,
   "metadata": {
    "application/vnd.databricks.v1+cell": {
     "cellMetadata": {
      "byteLimit": 2048000,
      "implicitDf": true,
      "rowLimit": 10000
     },
     "inputWidgets": {},
     "nuid": "dadb5fe0-0747-4ef3-82bc-2f7b5d6b4c54",
     "showTitle": false,
     "tableResultSettingsMap": {},
     "title": ""
    }
   },
   "outputs": [],
   "source": [
    "%sql\n",
    "\n",
    "-- Testando consulta SQL\n",
    "\n",
    "SELECT * FROM bronze.grain_logistic_shipping\n"
   ]
  }
 ],
 "metadata": {
  "application/vnd.databricks.v1+notebook": {
   "computePreferences": null,
   "dashboards": [],
   "environmentMetadata": {
    "base_environment": "",
    "environment_version": "2"
   },
   "inputWidgetPreferences": null,
   "language": "python",
   "notebookMetadata": {
    "mostRecentlyExecutedCommandWithImplicitDF": {
     "commandId": 107346567886125,
     "dataframes": [
      "_sqldf"
     ]
    },
    "pythonIndentUnit": 4
   },
   "notebookName": "Bronze_GD",
   "widgets": {}
  },
  "language_info": {
   "name": "python"
  }
 },
 "nbformat": 4,
 "nbformat_minor": 0
}
