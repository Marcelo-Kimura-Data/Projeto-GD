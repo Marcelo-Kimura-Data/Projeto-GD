{
 "cells": [
  {
   "cell_type": "code",
   "execution_count": 0,
   "metadata": {
    "application/vnd.databricks.v1+cell": {
     "cellMetadata": {
      "byteLimit": 2048000,
      "rowLimit": 10000
     },
     "inputWidgets": {},
     "nuid": "3c84c9d2-e0cd-43f1-a6ab-fd8b121e565d",
     "showTitle": false,
     "tableResultSettingsMap": {},
     "title": ""
    }
   },
   "outputs": [],
   "source": [
    "from pyspark.sql.functions import *\n",
    "from pyspark.sql.types import StructType, StructField, StringType, IntegerType, FloatType, DoubleType, DateType, TimestampType, LongType\n",
    "\n"
   ]
  },
  {
   "cell_type": "code",
   "execution_count": 0,
   "metadata": {
    "application/vnd.databricks.v1+cell": {
     "cellMetadata": {
      "byteLimit": 2048000,
      "rowLimit": 10000
     },
     "inputWidgets": {},
     "nuid": "2498a0fc-3503-4a31-995c-807e616022b7",
     "showTitle": false,
     "tableResultSettingsMap": {},
     "title": ""
    }
   },
   "outputs": [],
   "source": [
    "# Importação dados para o dataframe:\n",
    "df_gold = spark.read.table(\"silver.grain_logistic_shipping_silver\")\n",
    "display(df_gold)"
   ]
  },
  {
   "cell_type": "code",
   "execution_count": 0,
   "metadata": {
    "application/vnd.databricks.v1+cell": {
     "cellMetadata": {
      "byteLimit": 2048000,
      "rowLimit": 10000
     },
     "inputWidgets": {},
     "nuid": "0cecd6cc-0fde-4d54-ab5a-afaeb3202ae2",
     "showTitle": false,
     "tableResultSettingsMap": {},
     "title": ""
    }
   },
   "outputs": [],
   "source": [
    "# Adicionando as colunas de 'valor_total' (preco * qtd_itens) e 'tempo_entrega_dias' (tempo que levou para chegar a carga);\n",
    "\n",
    "df_gold = (df_gold.withColumn('valor_total',col('preco') * col('qtd_itens'))\n",
    "                  .withColumn(\"tempo_entrega_dias\", datediff(\"data_entrega\", \"data_envio\"))\n",
    "           )"
   ]
  },
  {
   "cell_type": "code",
   "execution_count": 0,
   "metadata": {
    "application/vnd.databricks.v1+cell": {
     "cellMetadata": {
      "byteLimit": 2048000,
      "rowLimit": 10000
     },
     "inputWidgets": {},
     "nuid": "0942da5f-6d01-4880-8c81-5d64fc0e4171",
     "showTitle": false,
     "tableResultSettingsMap": {},
     "title": ""
    }
   },
   "outputs": [],
   "source": [
    "# Adiciona a receita líquida por venda:\n",
    "\n",
    "df_gold = (df_gold.withColumn('receita_liquida',\n",
    "        round(col('valor_total') - ((col('desconto') / 100) * col('valor_total')), 2))\n",
    "        )"
   ]
  },
  {
   "cell_type": "code",
   "execution_count": 0,
   "metadata": {
    "application/vnd.databricks.v1+cell": {
     "cellMetadata": {
      "byteLimit": 2048000,
      "rowLimit": 10000
     },
     "inputWidgets": {},
     "nuid": "14affd36-1d16-4fd5-bf71-1fd0439b8b24",
     "showTitle": false,
     "tableResultSettingsMap": {},
     "title": ""
    }
   },
   "outputs": [],
   "source": [
    "# Adiciona a coluna de ANO-MÊS (para as análises)\n",
    "\n",
    "df_gold = df_gold.withColumn(\"periodo\",concat_ws(\"-\",year(col(\"data_envio\")),\n",
    "                  lpad(month(col(\"data_envio\")), 2, '0'))\n",
    "            )"
   ]
  },
  {
   "cell_type": "code",
   "execution_count": 0,
   "metadata": {
    "application/vnd.databricks.v1+cell": {
     "cellMetadata": {
      "byteLimit": 2048000,
      "rowLimit": 10000
     },
     "inputWidgets": {},
     "nuid": "cf7dbd03-9672-419d-8316-1b7d5a598ae3",
     "showTitle": false,
     "tableResultSettingsMap": {},
     "title": ""
    }
   },
   "outputs": [],
   "source": [
    "# Ticket médio por venda:\n",
    "\n",
    "df_gold = df_gold.withColumn(\"ticket_medio\",\n",
    "    round((col(\"receita_liquida\") / col(\"qtd_itens\")).cast(\"double\"), 2)\n",
    ")"
   ]
  },
  {
   "cell_type": "code",
   "execution_count": 0,
   "metadata": {
    "application/vnd.databricks.v1+cell": {
     "cellMetadata": {
      "byteLimit": 2048000,
      "rowLimit": 10000
     },
     "inputWidgets": {},
     "nuid": "c7022b2d-db70-4a30-9988-937597c48450",
     "showTitle": false,
     "tableResultSettingsMap": {},
     "title": ""
    }
   },
   "outputs": [],
   "source": [
    "# Descritivo qualidade do tempo entrega\n",
    "\n",
    "df_gold = df_gold.withColumn(\n",
    "    \"categoria_tempo_entrega\",\n",
    "    when(col(\"tempo_entrega_dias\") <= 2, \"Muito Rápido\")\n",
    "    .when(col(\"tempo_entrega_dias\") <= 5, \"Rápido\")\n",
    "    .when(col(\"tempo_entrega_dias\") <= 10, \"Normal\")\n",
    "    .otherwise(\"Demorado\")\n",
    ")"
   ]
  },
  {
   "cell_type": "code",
   "execution_count": 0,
   "metadata": {
    "application/vnd.databricks.v1+cell": {
     "cellMetadata": {
      "byteLimit": 2048000,
      "rowLimit": 10000
     },
     "inputWidgets": {},
     "nuid": "81bf0f5e-eb49-426d-aad0-75ec83bb0e4c",
     "showTitle": false,
     "tableResultSettingsMap": {},
     "title": ""
    }
   },
   "outputs": [],
   "source": [
    "display(df_gold)"
   ]
  },
  {
   "cell_type": "code",
   "execution_count": 0,
   "metadata": {
    "application/vnd.databricks.v1+cell": {
     "cellMetadata": {
      "byteLimit": 2048000,
      "rowLimit": 10000
     },
     "inputWidgets": {},
     "nuid": "07290b04-c766-4d0a-953b-9b1099ed676b",
     "showTitle": false,
     "tableResultSettingsMap": {},
     "title": ""
    }
   },
   "outputs": [],
   "source": [
    "# Dataframe taxa entrega envios por período e destino:\n",
    "\n",
    "df_taxa_entrega = (\n",
    "    df_gold.withColumn(\"data_envio\", to_date(col(\"data_envio\"), \"yyyy-MM-dd\"))\n",
    "        .withColumn(\"periodo\", concat_ws(\"-\", year(col(\"data_envio\")), lpad(month(col(\"data_envio\")), 2, '0')))\n",
    "        .groupBy(\"destino\", \"periodo\")\n",
    "        .agg(\n",
    "            count(\"*\").alias(\"total_envios\"),\n",
    "            sum(when(col(\"chegou_no_tempo\") == 1, 1).otherwise(0)).alias(\"entregas_no_prazo\"),\n",
    "            round(\n",
    "                (sum(when(col(\"chegou_no_tempo\") == 1, 1).otherwise(0)) / count(\"*\")) * 100, 2\n",
    "            ).alias(\"tx_entrega_prazo_%\")\n",
    "        )\n",
    "    )\n",
    "\n",
    "display(df_taxa_entrega)\n"
   ]
  },
  {
   "cell_type": "code",
   "execution_count": 0,
   "metadata": {
    "application/vnd.databricks.v1+cell": {
     "cellMetadata": {
      "byteLimit": 2048000,
      "rowLimit": 10000
     },
     "inputWidgets": {},
     "nuid": "5c5f1d55-18da-43a8-bae1-017d489b0e7f",
     "showTitle": false,
     "tableResultSettingsMap": {},
     "title": ""
    }
   },
   "outputs": [],
   "source": [
    "# Receita, Ticket Médio e Volume por Estado e Período\n",
    "\n",
    "df_receita_estado = (\n",
    "    df_gold.withColumn(\"data_envio\", to_date(col(\"data_envio\"), \"yyyy-MM-dd\"))\n",
    "      .withColumn(\"periodo\", concat_ws(\"-\", year(col(\"data_envio\")), lpad(month(col(\"data_envio\")), 2, '0')))\n",
    "      .withColumn(\"receita_liquida\", col(\"receita_liquida\").cast(\"double\"))\n",
    "      .withColumn(\"ticket_medio\", (col(\"receita_liquida\") / col(\"qtd_itens\")).cast(\"double\"))\n",
    "      .groupBy(\"destino\", \"periodo\")\n",
    "      .agg(\n",
    "          round(sum(\"receita_liquida\"),2).alias(\"receita_liquida\"),\n",
    "          round(avg(\"ticket_medio\"),2).alias(\"ticket_medio\"),\n",
    "          sum(\"qtd_itens\").alias(\"total_itens\"),\n",
    "          count(\"*\").alias(\"total_pedidos\")\n",
    "      )\n",
    ")\n",
    "\n",
    "display(df_receita_estado)\n"
   ]
  },
  {
   "cell_type": "code",
   "execution_count": 0,
   "metadata": {
    "application/vnd.databricks.v1+cell": {
     "cellMetadata": {
      "byteLimit": 2048000,
      "rowLimit": 10000
     },
     "inputWidgets": {},
     "nuid": "82d8d2d2-9409-4c6a-9ff4-3650c5073662",
     "showTitle": false,
     "tableResultSettingsMap": {},
     "title": ""
    }
   },
   "outputs": [],
   "source": [
    "# Volume de Pedidos e Taxa de Atraso por Método de Envio\n",
    "\n",
    "df_atraso_metodo = (\n",
    "    df_gold.withColumn(\"atrasou\", when(col(\"chegou_no_tempo\") == 1, 0).otherwise(1))\n",
    "      .groupBy(\"metodo_de_envio\")\n",
    "      .agg(\n",
    "          count(\"*\").alias(\"total_envios\"),\n",
    "          sum(when(col(\"atrasou\") == 1, 1).otherwise(0)).alias(\"total_atrasos\"),\n",
    "          round(\n",
    "              (sum(when(col(\"atrasou\") == 1, 1).otherwise(0)) / count(\"*\")) * 100, 2\n",
    "          ).alias(\"tx_atraso_%\")\n",
    "      )\n",
    ")\n",
    "\n",
    "display(df_atraso_metodo)\n"
   ]
  },
  {
   "cell_type": "code",
   "execution_count": 0,
   "metadata": {
    "application/vnd.databricks.v1+cell": {
     "cellMetadata": {
      "byteLimit": 2048000,
      "rowLimit": 10000
     },
     "inputWidgets": {},
     "nuid": "2b586f6c-fbe6-4106-a917-b288a5f70087",
     "showTitle": false,
     "tableResultSettingsMap": {},
     "title": ""
    }
   },
   "outputs": [],
   "source": [
    "# Validação Schema gold:\n",
    "\n",
    "# Gold OBT\n",
    "schema_gold = StructType([\n",
    "    StructField(\"id_envio\", StringType(), True),\n",
    "    StructField(\"corredor_de_armazenagem\", StringType(), True),\n",
    "    StructField(\"metodo_de_envio\", StringType(), True),\n",
    "    StructField(\"ligacoes_do_cliente\", IntegerType(), True),\n",
    "    StructField(\"avaliacao_do_cliente\", IntegerType(), True),\n",
    "    StructField(\"preco\", FloatType(), True),\n",
    "    StructField(\"qtd_itens\", IntegerType(), True),\n",
    "    StructField(\"importancia\", StringType(), True),\n",
    "    StructField(\"genero\", StringType(), True),\n",
    "    StructField(\"desconto\", IntegerType(), True),\n",
    "    StructField(\"peso_gramas\", IntegerType(), True),\n",
    "    StructField(\"chegou_no_tempo\", IntegerType(), True),\n",
    "    StructField(\"destino\", StringType(), True),\n",
    "    StructField(\"data_envio\", DateType(), True),\n",
    "    StructField(\"data_entrega\", DateType(), True),\n",
    "    StructField(\"avaliacao_entrega\", IntegerType(), True),\n",
    "    StructField(\"data_hora_carga\", TimestampType(), True),\n",
    "    StructField(\"valor_total\", FloatType(), True),\n",
    "    StructField(\"tempo_entrega_dias\", IntegerType(), True),\n",
    "    StructField(\"receita_liquida\", DoubleType(), True),\n",
    "    StructField(\"periodo\", StringType(), False), \n",
    "    StructField(\"ticket_medio\", DoubleType(), True),\n",
    "    StructField(\"categoria_tempo_entrega\", StringType(), False) \n",
    "])\n",
    "\n",
    "# df_taxa_entrega\n",
    "schema_taxa_entrega = StructType([\n",
    "    StructField(\"destino\", StringType(), True),\n",
    "    StructField(\"periodo\", StringType(), False), \n",
    "    StructField(\"total_envios\", LongType(), False), \n",
    "    StructField(\"entregas_no_prazo\", LongType(), True),\n",
    "    StructField(\"tx_entrega_prazo_%\", DoubleType(), True)\n",
    "])\n",
    "\n",
    "\n",
    "# df_receita_estado\n",
    "schema_receita_estado = StructType([\n",
    "    StructField(\"destino\", StringType(), True),\n",
    "    StructField(\"periodo\", StringType(), False),\n",
    "    StructField(\"receita_liquida\", DoubleType(), True),\n",
    "    StructField(\"ticket_medio\", DoubleType(), True),\n",
    "    StructField(\"total_itens\", LongType(), True),\n",
    "    StructField(\"total_pedidos\", LongType(), False)\n",
    "])\n",
    "\n",
    "\n",
    "# df_atraso_metodo\n",
    "schema_atraso_metodo = StructType([\n",
    "    StructField(\"metodo_de_envio\", StringType(), True),\n",
    "    StructField(\"total_envios\", LongType(), False),\n",
    "    StructField(\"total_atrasos\", LongType(), True),\n",
    "    StructField(\"tx_atraso_%\", DoubleType(), True)\n",
    "])"
   ]
  },
  {
   "cell_type": "code",
   "execution_count": 0,
   "metadata": {
    "application/vnd.databricks.v1+cell": {
     "cellMetadata": {
      "byteLimit": 2048000,
      "rowLimit": 10000
     },
     "inputWidgets": {},
     "nuid": "77860a8d-fe32-477f-ad22-5d6a39d62d22",
     "showTitle": false,
     "tableResultSettingsMap": {},
     "title": ""
    }
   },
   "outputs": [],
   "source": [
    "# Validação Schema df_gold:\n",
    "if df_gold.schema == schema_gold:\n",
    "    print(\"Schema da Gold OK!\")\n",
    "else:\n",
    "    print(\"Schema da Gold NÃO bate com o esperado!\")\n",
    "\n",
    "\n",
    "\n",
    "# Validação Schema df_taxa_entrega:\n",
    "if df_taxa_entrega.schema == schema_taxa_entrega:\n",
    "    print(\"Schema da df_taxa_entrega OK!\")\n",
    "else:\n",
    "    print(\"Schema da df_taxa_entrega NÃO bate com o esperado!\")\n",
    "\n",
    "# Validação Schema df_receita_estado:\n",
    "if df_receita_estado.schema == schema_receita_estado:\n",
    "    print(\"Schema da df_receita_estado OK!\")\n",
    "else:\n",
    "    print(\"Schema da df_receita_estado NÃO bate com o esperado!\")\n",
    "\n",
    "# Validação Schema df_atraso_metodo:\n",
    "if df_atraso_metodo.schema == schema_atraso_metodo:\n",
    "    print(\"Schema da df_atraso_metodo OK!\")\n",
    "else:\n",
    "    print(\"Schema da df_atraso_metodo NÃO bate com o esperado!\")\n",
    "   "
   ]
  },
  {
   "cell_type": "code",
   "execution_count": 0,
   "metadata": {
    "application/vnd.databricks.v1+cell": {
     "cellMetadata": {
      "byteLimit": 2048000,
      "rowLimit": 10000
     },
     "inputWidgets": {},
     "nuid": "969a1e2b-52d9-42f0-92a3-099b1e8d2693",
     "showTitle": false,
     "tableResultSettingsMap": {},
     "title": ""
    }
   },
   "outputs": [],
   "source": [
    "# (Opcional) Salvando arquivo na camada gold no S3\n",
    "# OBS: Isso gera um save a mais!\n",
    "\n",
    "\n",
    "'''df_gold.write \\\n",
    "    .format(\"delta\") \\\n",
    "    .mode(\"overwrite\") \\\n",
    "    .option(\"mergeSchema\", \"true\") \\\n",
    "    .save(\"s3a://grao-direto-mmk/gold/grain_logistic_shipping_gold\")'''"
   ]
  },
  {
   "cell_type": "code",
   "execution_count": 0,
   "metadata": {
    "application/vnd.databricks.v1+cell": {
     "cellMetadata": {
      "byteLimit": 2048000,
      "rowLimit": 10000
     },
     "inputWidgets": {},
     "nuid": "0e9645a8-7db0-48db-a559-26ff2603f1aa",
     "showTitle": false,
     "tableResultSettingsMap": {},
     "title": ""
    }
   },
   "outputs": [],
   "source": [
    "# Salvando arquivo na camada gold do lakehouse no Databricks:\n",
    "# Criação da tabela Gold no Delta Lake no WorkSpace do Databricks;\n",
    "\n",
    "spark.sql(\"CREATE DATABASE IF NOT EXISTS gold\")\n",
    "\n",
    "df_gold.write.format(\"delta\")\\\n",
    "            .option(\"mergeSchema\", \"true\") \\\n",
    "            .mode(\"overwrite\") \\\n",
    "            .saveAsTable(\"gold.grain_logistic_shipping_gold_OBT\")\n",
    "\n",
    "df_taxa_entrega.write.format(\"delta\")\\\n",
    "            .option(\"mergeSchema\", \"true\") \\\n",
    "            .mode(\"overwrite\") \\\n",
    "            .saveAsTable(\"gold.grain_logistic_shipping_taxa_entrega\")\n",
    "\n",
    "df_receita_estado.write.format(\"delta\")\\\n",
    "            .option(\"mergeSchema\", \"true\") \\\n",
    "            .mode(\"overwrite\") \\\n",
    "            .saveAsTable(\"gold.grain_logistic_shipping_receita_estado\")\n",
    "\n",
    "df_atraso_metodo.write.format(\"delta\")\\\n",
    "            .option(\"mergeSchema\", \"true\") \\\n",
    "            .mode(\"overwrite\") \\\n",
    "            .saveAsTable(\"gold.grain_logistic_shipping_atraso_metodo\")"
   ]
  },
  {
   "cell_type": "code",
   "execution_count": 0,
   "metadata": {
    "application/vnd.databricks.v1+cell": {
     "cellMetadata": {
      "byteLimit": 2048000,
      "rowLimit": 10000
     },
     "inputWidgets": {},
     "nuid": "61484c8a-6b3f-4581-954b-352182a3b7ee",
     "showTitle": false,
     "tableResultSettingsMap": {},
     "title": ""
    }
   },
   "outputs": [],
   "source": [
    "\n",
    "# Checar nulos em coluna crítica (exemplo: id_envio)\n",
    "\n",
    "count_silver = spark.table(\"silver.grain_logistic_shipping_silver\").count()\n",
    "count_gold = spark.table(\"gold.grain_logistic_shipping_gold_OBT\").count()\n",
    "\n",
    "print(f\"Registros Silver: {count_silver}\")\n",
    "print(f\"Registros Gold: {count_gold}\")\n",
    "print(\"-------------------------------------------------------------\")\n",
    "\n",
    "nulos_silver = spark.table(\"silver.grain_logistic_shipping_silver\").filter(\"id_envio IS NULL\").count()\n",
    "nulos_gold = spark.table(\"gold.grain_logistic_shipping_gold_OBT\").filter(\"id_envio IS NULL\").count()\n",
    "\n",
    "print(f\"Nulos id_envio Silver: {nulos_silver}\")\n",
    "print(f\"Nulos id_envio Bronze: {nulos_gold}\")\n",
    "\n",
    "print(\"-------------------------------------------------------------\")\n",
    "\n",
    "# Checar duplicatas na Silver (por id_envio)\n",
    "dup_count = spark.table(\"gold.grain_logistic_shipping_gold_OBT\")\\\n",
    "    .groupBy(\"id_envio\")\\\n",
    "    .count()\\\n",
    "    .filter(\"count > 1\")\\\n",
    "    .count()\n",
    "\n",
    "print(f\"Duplicatas em Gold (id_envio): {dup_count}\")\n",
    "\n",
    "print(\"Teste de integração Silver → Gold OK!\")"
   ]
  },
  {
   "cell_type": "markdown",
   "metadata": {
    "application/vnd.databricks.v1+cell": {
     "cellMetadata": {
      "byteLimit": 2048000,
      "rowLimit": 10000
     },
     "inputWidgets": {},
     "nuid": "814b63c4-da49-46a1-912f-352d91e5761d",
     "showTitle": false,
     "tableResultSettingsMap": {},
     "title": ""
    }
   },
   "source": [
    "## Testes de Queries"
   ]
  },
  {
   "cell_type": "code",
   "execution_count": 0,
   "metadata": {
    "application/vnd.databricks.v1+cell": {
     "cellMetadata": {
      "byteLimit": 2048000,
      "implicitDf": true,
      "rowLimit": 10000
     },
     "inputWidgets": {},
     "nuid": "c0c218d9-5bbc-4908-b73c-944ce9a008fa",
     "showTitle": false,
     "tableResultSettingsMap": {},
     "title": ""
    }
   },
   "outputs": [],
   "source": [
    "%sql\n",
    "\n",
    "-- Teste SQL da tabela:\n",
    "\n",
    "SELECT * FROM gold.grain_logistic_shipping_gold_OBT"
   ]
  },
  {
   "cell_type": "code",
   "execution_count": 0,
   "metadata": {
    "application/vnd.databricks.v1+cell": {
     "cellMetadata": {
      "byteLimit": 2048000,
      "implicitDf": true,
      "rowLimit": 10000
     },
     "inputWidgets": {},
     "nuid": "cb231e8e-5750-4245-ba54-bfd190fc3024",
     "showTitle": false,
     "tableResultSettingsMap": {},
     "title": ""
    }
   },
   "outputs": [],
   "source": [
    "%sql\n",
    "\n",
    "-- Consulta SQL de produtos por corredor_de_armazenagem:\n",
    "\n",
    "select \n",
    "  corredor_de_armazenagem,\n",
    "  count(*)\n",
    "from\n",
    "  gold.grain_logistic_shipping_gold_OBT\n",
    "  group by\n",
    "    corredor_de_armazenagem"
   ]
  },
  {
   "cell_type": "code",
   "execution_count": 0,
   "metadata": {
    "application/vnd.databricks.v1+cell": {
     "cellMetadata": {
      "byteLimit": 2048000,
      "implicitDf": true,
      "rowLimit": 10000
     },
     "inputWidgets": {},
     "nuid": "c88ef4ac-4210-4afb-b187-9ca2141a6cc9",
     "showTitle": false,
     "tableResultSettingsMap": {},
     "title": ""
    }
   },
   "outputs": [],
   "source": [
    "%sql\n",
    "\n",
    "-- Consulta SQL de soma valor_total de produtos por metodo_de_envio:\n",
    "\n",
    "select\n",
    "  metodo_de_envio,\n",
    "  sum(valor_total)\n",
    "from\n",
    "  gold.grain_logistic_shipping_gold_OBT\n",
    "group by\n",
    "  metodo_de_envio"
   ]
  },
  {
   "cell_type": "code",
   "execution_count": 0,
   "metadata": {
    "application/vnd.databricks.v1+cell": {
     "cellMetadata": {
      "byteLimit": 2048000,
      "implicitDf": true,
      "rowLimit": 10000
     },
     "inputWidgets": {},
     "nuid": "b87502db-68c7-4255-84d6-ae505d4f271e",
     "showTitle": false,
     "tableResultSettingsMap": {},
     "title": ""
    }
   },
   "outputs": [],
   "source": [
    "%sql\n",
    "\n",
    "-- Consulta SQL de soma valor_total de produtos por importancia:\n",
    "\n",
    "select\n",
    "  importancia,\n",
    "  sum(valor_total) as total,\n",
    "  sum(ligacoes_do_cliente) as total_ligacoes\n",
    "from\n",
    "  gold.grain_logistic_shipping_gold_OBT\n",
    "group by\n",
    "  importancia\n",
    "order by total desc"
   ]
  },
  {
   "cell_type": "code",
   "execution_count": 0,
   "metadata": {
    "application/vnd.databricks.v1+cell": {
     "cellMetadata": {
      "byteLimit": 2048000,
      "implicitDf": true,
      "rowLimit": 10000
     },
     "inputWidgets": {},
     "nuid": "66745f45-b4d5-4686-959c-b34d2568f3a8",
     "showTitle": false,
     "tableResultSettingsMap": {},
     "title": ""
    }
   },
   "outputs": [],
   "source": [
    "%sql\n",
    "\n",
    "-- Top 5 destinos com maior valor_total\n",
    "\n",
    "select\n",
    "  destino,\n",
    "  sum(valor_total) as total\n",
    "from\n",
    "  gold.grain_logistic_shipping_gold_OBT\n",
    "group by\n",
    "  destino\n",
    "order by total desc\n",
    "limit 5"
   ]
  },
  {
   "cell_type": "code",
   "execution_count": 0,
   "metadata": {
    "application/vnd.databricks.v1+cell": {
     "cellMetadata": {
      "byteLimit": 2048000,
      "implicitDf": true,
      "rowLimit": 10000
     },
     "inputWidgets": {},
     "nuid": "28ae7c23-fa7a-4391-828e-cc370e9288f8",
     "showTitle": false,
     "tableResultSettingsMap": {},
     "title": ""
    }
   },
   "outputs": [],
   "source": [
    "%sql\n",
    "\n",
    "-- Top 5 últimos destinos com menor valor_total\n",
    "\n",
    "select\n",
    "  destino,\n",
    "  sum(valor_total) as total\n",
    "from\n",
    "  gold.grain_logistic_shipping_gold_OBT\n",
    "group by\n",
    "  destino\n",
    "order by total asc\n",
    "limit 5"
   ]
  },
  {
   "cell_type": "code",
   "execution_count": 0,
   "metadata": {
    "application/vnd.databricks.v1+cell": {
     "cellMetadata": {
      "byteLimit": 2048000,
      "implicitDf": true,
      "rowLimit": 10000
     },
     "inputWidgets": {},
     "nuid": "125f5050-c8d1-406e-954e-5bb8789f9c62",
     "showTitle": false,
     "tableResultSettingsMap": {},
     "title": ""
    }
   },
   "outputs": [],
   "source": [
    "%sql\n",
    "\n",
    "-- Tabela com destino = 'Indefinido'\n",
    "\n",
    "select\n",
    "  * \n",
    "from\n",
    "  gold.grain_logistic_shipping_gold_OBT\n",
    "where destino == 'Indefinido'"
   ]
  },
  {
   "cell_type": "code",
   "execution_count": 0,
   "metadata": {
    "application/vnd.databricks.v1+cell": {
     "cellMetadata": {
      "byteLimit": 2048000,
      "implicitDf": true,
      "rowLimit": 10000
     },
     "inputWidgets": {},
     "nuid": "e117c86f-d874-4fb4-9ce9-c74479085391",
     "showTitle": false,
     "tableResultSettingsMap": {},
     "title": ""
    }
   },
   "outputs": [],
   "source": [
    "%sql\n",
    "\n",
    "-- Valor_total por metodo_de_envio e importancia\n",
    "\n",
    "select\n",
    "  metodo_de_envio, importancia,\n",
    "  sum(valor_total)\n",
    "from\n",
    "  gold.grain_logistic_shipping_gold_OBT\n",
    "where destino == 'Indefinido'\n",
    "group by\n",
    "  metodo_de_envio, importancia\n",
    "order by metodo_de_envio"
   ]
  },
  {
   "cell_type": "code",
   "execution_count": 0,
   "metadata": {
    "application/vnd.databricks.v1+cell": {
     "cellMetadata": {
      "byteLimit": 2048000,
      "rowLimit": 10000
     },
     "inputWidgets": {},
     "nuid": "fdd48a7f-4186-49c4-9d19-25a20a1a4eb9",
     "showTitle": false,
     "tableResultSettingsMap": {},
     "title": ""
    }
   },
   "outputs": [],
   "source": [
    "count_bronze = spark.table(\"bronze.grain_logistic_shipping\").count()\n",
    "count_silver = spark.table(\"silver.grain_logistic_shipping_silver\").count()\n",
    "count_gold = spark.table(\"gold.grain_logistic_shipping_gold_obt\").count()\n",
    "\n",
    "print(f\"Registros Bronze: {count_bronze}\")\n",
    "print(f\"Registros Silver: {count_silver}\")\n",
    "print(f\"Registros Gold: {count_gold}\")\n",
    "\n",
    "assert count_bronze >= count_silver, \"Silver tem mais registros que Bronze? Algo errado!\"\n",
    "assert count_silver >= count_gold, \"Gold tem mais registros que Silver? Algo errado!\""
   ]
  }
 ],
 "metadata": {
  "application/vnd.databricks.v1+notebook": {
   "computePreferences": null,
   "dashboards": [],
   "environmentMetadata": {
    "base_environment": "",
    "environment_version": "2"
   },
   "inputWidgetPreferences": null,
   "language": "python",
   "notebookMetadata": {
    "mostRecentlyExecutedCommandWithImplicitDF": {
     "commandId": 107346567886174,
     "dataframes": [
      "_sqldf"
     ]
    },
    "pythonIndentUnit": 4
   },
   "notebookName": "Gold_GD",
   "widgets": {}
  },
  "language_info": {
   "name": "python"
  }
 },
 "nbformat": 4,
 "nbformat_minor": 0
}
