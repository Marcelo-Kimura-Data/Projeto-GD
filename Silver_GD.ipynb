{
 "cells": [
  {
   "cell_type": "code",
   "execution_count": 0,
   "metadata": {
    "application/vnd.databricks.v1+cell": {
     "cellMetadata": {
      "byteLimit": 2048000,
      "rowLimit": 10000
     },
     "inputWidgets": {},
     "nuid": "7157d906-7189-4d89-8acb-f3212c3bd878",
     "showTitle": false,
     "tableResultSettingsMap": {},
     "title": ""
    }
   },
   "outputs": [],
   "source": [
    "# Caso necessário instalar a biblioteca unidecode.\n",
    "\n",
    "#%pip install unidecode"
   ]
  },
  {
   "cell_type": "code",
   "execution_count": 0,
   "metadata": {
    "application/vnd.databricks.v1+cell": {
     "cellMetadata": {
      "byteLimit": 2048000,
      "rowLimit": 10000
     },
     "inputWidgets": {},
     "nuid": "67a1d677-8154-4cf1-83e2-3f5caacb610d",
     "showTitle": false,
     "tableResultSettingsMap": {},
     "title": ""
    }
   },
   "outputs": [],
   "source": [
    "from pyspark.sql.functions import   to_date, udf, col, isnan, when, count, datediff\n",
    "from pyspark.sql.types import StringType\n",
    "import re\n",
    "from unidecode import unidecode"
   ]
  },
  {
   "cell_type": "code",
   "execution_count": 0,
   "metadata": {
    "application/vnd.databricks.v1+cell": {
     "cellMetadata": {
      "byteLimit": 2048000,
      "rowLimit": 10000
     },
     "inputWidgets": {},
     "nuid": "39190378-23b5-4659-8e0d-5088237d21db",
     "showTitle": false,
     "tableResultSettingsMap": {},
     "title": ""
    }
   },
   "outputs": [],
   "source": [
    "# Importação dos dados da camada bronze para o dataframe.\n",
    "\n",
    "df_silver = spark.read.format(\"delta\").load(\"s3a://grao-direto-mmk/bronze/grain_logistic_shipping\")\n",
    "display(df_silver)"
   ]
  },
  {
   "cell_type": "code",
   "execution_count": 0,
   "metadata": {
    "application/vnd.databricks.v1+cell": {
     "cellMetadata": {
      "byteLimit": 2048000,
      "rowLimit": 10000
     },
     "inputWidgets": {},
     "nuid": "aa481906-b6fc-436d-bd29-7f3da2fb0260",
     "showTitle": false,
     "tableResultSettingsMap": {},
     "title": ""
    }
   },
   "outputs": [],
   "source": [
    "# Primeira correção no dataframe será os nomes das colunas.\n",
    "# Utilizando a função unidecode para a padronização dos caracteres.\n",
    "# Após isso, renomear algumas colunas que não ficaram no padrão.\n",
    "\n",
    "df_silver.columns"
   ]
  },
  {
   "cell_type": "code",
   "execution_count": 0,
   "metadata": {
    "application/vnd.databricks.v1+cell": {
     "cellMetadata": {
      "byteLimit": 2048000,
      "rowLimit": 10000
     },
     "inputWidgets": {},
     "nuid": "425c6984-585c-48af-ba41-dc94bb51c218",
     "showTitle": false,
     "tableResultSettingsMap": {},
     "title": ""
    }
   },
   "outputs": [],
   "source": [
    "# Lista recebe o nome das colunas após o tratamento.\n",
    "\n",
    "novos_nomes = []\n",
    "\n",
    "for nome_coluna in df_silver.columns:\n",
    "    nome_tratado = nome_coluna.lower().replace(\" \", \"_\")\n",
    "    nome_tratado = unidecode(nome_tratado)\n",
    "    novos_nomes.append(nome_tratado)\n",
    "\n",
    "df_silver = df_silver.toDF(*novos_nomes)"
   ]
  },
  {
   "cell_type": "code",
   "execution_count": 0,
   "metadata": {
    "application/vnd.databricks.v1+cell": {
     "cellMetadata": {
      "byteLimit": 2048000,
      "rowLimit": 10000
     },
     "inputWidgets": {},
     "nuid": "dcb70c73-0325-4b94-8227-d22eafa91a46",
     "showTitle": false,
     "tableResultSettingsMap": {},
     "title": ""
    }
   },
   "outputs": [],
   "source": [
    "# Ajuste final dos nomes.\n",
    "\n",
    "df_silver = df_silver.withColumnRenamed(\"dataenvio\", \"data_envio\") \\\n",
    "                     .withColumnRenamed(\"dataentrega\", \"data_entrega\") \\\n",
    "                     .withColumnRenamed(\"avaliacaoentrega\", \"avaliacao_entrega\")\\\n",
    "                     .withColumnRenamed(\"peso_g\", \"peso_gramas\")"
   ]
  },
  {
   "cell_type": "code",
   "execution_count": 0,
   "metadata": {
    "application/vnd.databricks.v1+cell": {
     "cellMetadata": {
      "byteLimit": 2048000,
      "rowLimit": 10000
     },
     "inputWidgets": {},
     "nuid": "523195b2-693f-4519-9b04-0e7a7a81fca7",
     "showTitle": false,
     "tableResultSettingsMap": {},
     "title": ""
    }
   },
   "outputs": [],
   "source": [
    "# Checagem: Ok\n",
    "\n",
    "df_silver.columns"
   ]
  },
  {
   "cell_type": "code",
   "execution_count": 0,
   "metadata": {
    "application/vnd.databricks.v1+cell": {
     "cellMetadata": {
      "byteLimit": 2048000,
      "rowLimit": 10000
     },
     "inputWidgets": {},
     "nuid": "317d64a1-305d-4aa4-b4be-4ebc189ee6d5",
     "showTitle": false,
     "tableResultSettingsMap": {},
     "title": ""
    }
   },
   "outputs": [],
   "source": [
    "# Função para limpar e converter data em texto pt-BR para \"dd/MM/yyyy\"\n",
    "# Uso de regex para realizar o tratamento das datas.\n",
    "\n",
    "\n",
    "def limpar_data(data_str):\n",
    "    if data_str is None:\n",
    "        return None\n",
    "    \n",
    "    # Dicionário com os nomes do meses e seus repectivos valore numéricos\n",
    "    meses = {\n",
    "        'janeiro': '01', 'fevereiro': '02', 'março': '03',\n",
    "        'abril': '04', 'maio': '05', 'junho': '06',\n",
    "        'julho': '07', 'agosto': '08', 'setembro': '09',\n",
    "        'outubro': '10', 'novembro': '11', 'dezembro': '12'\n",
    "            }\n",
    "\n",
    "    # Uso do regex para remover os nomes de dias da semana:\n",
    "        # Remove qualquer dia com final '-feira,'\n",
    "        # Remove qualquer dia escrito de outra forma:\n",
    "            # Ex: 'segunda,', 'ter,' , 'sábado,', 'domingo,' ....(sempre terminando com a vírgula)\n",
    "\n",
    "    data_str = re.sub(r'^\\w+-feira,\\s*', '', data_str)\n",
    "    data_str = re.sub(r'^\\w+,\\s*', '', data_str)\n",
    "\n",
    "    # Com isso tenho uma lista no formato ['01','agosto','2023']\n",
    "    partes = data_str.strip().split(' de ')\n",
    "    if len(partes) != 3:\n",
    "        return None\n",
    "\n",
    "    # Direciono os valores para as variáveis\n",
    "        # dia: número de dois dígitos;\n",
    "        # meses: uso o dicionário para alocar o valor numérico do respectivo mês;\n",
    "        # ano: número de quatro dígitos.\n",
    "    dia = partes[0].zfill(2)\n",
    "    mes = meses.get(partes[1].lower().strip())\n",
    "    ano = partes[2].strip()\n",
    "\n",
    "    if not mes:\n",
    "        return None\n",
    "    \n",
    "    # Retorno uma string no fomato dd/MM/yyyy\n",
    "    return f\"{dia}/{mes}/{ano}\""
   ]
  },
  {
   "cell_type": "code",
   "execution_count": 0,
   "metadata": {
    "application/vnd.databricks.v1+cell": {
     "cellMetadata": {
      "byteLimit": 2048000,
      "rowLimit": 10000
     },
     "inputWidgets": {},
     "nuid": "cb04005a-cf2c-4d82-a2f1-932f5a03c520",
     "showTitle": false,
     "tableResultSettingsMap": {},
     "title": ""
    }
   },
   "outputs": [],
   "source": [
    "# Converter a função criada para o UDF:\n",
    "limpar_data = udf(limpar_data, StringType())\n",
    "\n",
    "# Aplicar a função/UDF:\n",
    "df_bronze = df_bronze.withColumn(\"data_envio\", limpar_data(\"data_envio\"))\n",
    "df_bronze = df_bronze.withColumn(\"data_entrega\", limpar_data(\"data_entrega\"))\n",
    "\n",
    "# Conversão para o tipo Date:\n",
    "df_bronze = df_bronze.withColumn(\"data_envio\", to_date(\"data_envio\", \"dd/MM/yyyy\"))\n",
    "df_bronze = df_bronze.withColumn(\"data_entrega\", to_date(\"data_entrega\", \"dd/MM/yyyy\"))"
   ]
  },
  {
   "cell_type": "code",
   "execution_count": 0,
   "metadata": {
    "application/vnd.databricks.v1+cell": {
     "cellMetadata": {
      "byteLimit": 2048000,
      "rowLimit": 10000
     },
     "inputWidgets": {},
     "nuid": "b2653c2c-1d42-4087-b26a-ed9a92dd4929",
     "showTitle": false,
     "tableResultSettingsMap": {},
     "title": ""
    }
   },
   "outputs": [],
   "source": [
    "# Ajuste dos tipos de dados das colunas:\n",
    "# OBS: id_envio será atribuído o tipo str por conta de ser coluna de ID (evitar perder dados).\n",
    "\n",
    "df_bronze = (df_bronze\n",
    "            .withColumn(\"ligacoes_do_cliente\", col(\"ligacoes_do_cliente\").cast(\"int\"))\n",
    "            .withColumn(\"avaliacao_do_cliente\", col(\"avaliacao_do_cliente\").cast(\"int\"))\n",
    "            .withColumn(\"preco\", col(\"preco\").cast(\"float\"))\n",
    "            .withColumn(\"qtd_itens\", col(\"qtd_itens\").cast(\"int\"))\n",
    "            .withColumn(\"desconto\", col(\"desconto\").cast(\"int\"))\n",
    "            .withColumn(\"peso_gramas\", col(\"peso_gramas\").cast(\"int\"))\n",
    "            .withColumn(\"chegou_no_tempo\", col(\"chegou_no_tempo\").cast(\"int\"))\n",
    "            .withColumn(\"avaliacao_entrega\", col(\"avaliacao_entrega\").cast(\"int\"))\n",
    "            )"
   ]
  },
  {
   "cell_type": "code",
   "execution_count": 0,
   "metadata": {
    "application/vnd.databricks.v1+cell": {
     "cellMetadata": {
      "byteLimit": 2048000,
      "rowLimit": 10000
     },
     "inputWidgets": {},
     "nuid": "4a9a0a64-476f-4879-a062-56a02f86848f",
     "showTitle": false,
     "tableResultSettingsMap": {},
     "title": ""
    }
   },
   "outputs": [],
   "source": [
    "# Checagem Schema: OK\n",
    "\n",
    "df_bronze.printSchema()\n"
   ]
  },
  {
   "cell_type": "code",
   "execution_count": 0,
   "metadata": {
    "application/vnd.databricks.v1+cell": {
     "cellMetadata": {
      "byteLimit": 2048000,
      "rowLimit": 10000
     },
     "inputWidgets": {},
     "nuid": "afbe92b5-8d03-476d-9b6f-30953591c319",
     "showTitle": false,
     "tableResultSettingsMap": {},
     "title": ""
    }
   },
   "outputs": [],
   "source": [
    "# Visualização da tabela:\n",
    "\n",
    "display(df_bronze)"
   ]
  },
  {
   "cell_type": "code",
   "execution_count": 0,
   "metadata": {
    "application/vnd.databricks.v1+cell": {
     "cellMetadata": {
      "byteLimit": 2048000,
      "rowLimit": 10000
     },
     "inputWidgets": {},
     "nuid": "7f643d8e-2ff8-430c-8e65-00226cbaad2a",
     "showTitle": false,
     "tableResultSettingsMap": {},
     "title": ""
    }
   },
   "outputs": [],
   "source": [
    "# Checagem de valores nulos:\n",
    "#      |--> sem valores nulos\n",
    "\n",
    "display(df_bronze.summary(\"count\"))"
   ]
  },
  {
   "cell_type": "code",
   "execution_count": 0,
   "metadata": {
    "application/vnd.databricks.v1+cell": {
     "cellMetadata": {
      "byteLimit": 2048000,
      "rowLimit": 10000
     },
     "inputWidgets": {},
     "nuid": "0daddd08-10ae-41e0-bda5-3014316cb956",
     "showTitle": false,
     "tableResultSettingsMap": {},
     "title": ""
    }
   },
   "outputs": [],
   "source": [
    "# Checagem de linhas duplicadas no DataFrame:\n",
    "#   |--> encontrado 4 linhas duplicadas.\n",
    "\n",
    "total = df_bronze.count()\n",
    "sem_duplicatas = df_bronze.dropDuplicates().count()\n",
    "\n",
    "print(f\"Total de linhas: {total}\")                      # Total de linhas no DF\n",
    "print(f\"Total sem duplicatas: {sem_duplicatas}\")        # Total de linhas duplicadas\n",
    "\n",
    "if total > sem_duplicatas:\n",
    "    print(f\"Tem {total - sem_duplicatas} linhas duplicadas.\")\n",
    "else:\n",
    "    print(\"DataFrame limpo de duplicadas.\")"
   ]
  },
  {
   "cell_type": "code",
   "execution_count": 0,
   "metadata": {
    "application/vnd.databricks.v1+cell": {
     "cellMetadata": {
      "byteLimit": 2048000,
      "rowLimit": 10000
     },
     "inputWidgets": {},
     "nuid": "085f8613-ddf9-4aeb-a2b4-6366e6efb929",
     "showTitle": false,
     "tableResultSettingsMap": {},
     "title": ""
    }
   },
   "outputs": [],
   "source": [
    "# Limpeza de linhas duplicadas: Ok\n",
    "\n",
    "df_bronze = df_bronze.dropDuplicates()"
   ]
  },
  {
   "cell_type": "markdown",
   "metadata": {
    "application/vnd.databricks.v1+cell": {
     "cellMetadata": {},
     "inputWidgets": {},
     "nuid": "449697c4-a150-451d-ae74-e15ce8356da0",
     "showTitle": false,
     "tableResultSettingsMap": {},
     "title": ""
    }
   },
   "source": [
    "### Checagem nos dados das colunas.\n",
    "\n",
    "Objetivo: tentar encontrar alguma anomalia nas informações\\\n",
    "Ex: elementos da coluna ser = A,B,C,D e encontrar um valor igual a Z."
   ]
  },
  {
   "cell_type": "code",
   "execution_count": 0,
   "metadata": {
    "application/vnd.databricks.v1+cell": {
     "cellMetadata": {
      "byteLimit": 2048000,
      "rowLimit": 10000
     },
     "inputWidgets": {},
     "nuid": "0fceb0eb-1798-4526-bac1-164c2eee97e0",
     "showTitle": false,
     "tableResultSettingsMap": {},
     "title": ""
    }
   },
   "outputs": [],
   "source": [
    "# Checagem coluna corredor_de_armazenagem:\n",
    "#   |--> Normal\n",
    "\n",
    "display(df_bronze.groupBy(\"corredor_de_armazenagem\").count().orderBy(\"corredor_de_armazenagem\", ascending=True))"
   ]
  },
  {
   "cell_type": "code",
   "execution_count": 0,
   "metadata": {
    "application/vnd.databricks.v1+cell": {
     "cellMetadata": {
      "byteLimit": 2048000,
      "rowLimit": 10000
     },
     "inputWidgets": {},
     "nuid": "6220a55c-18cf-49f2-9371-8339c4da805d",
     "showTitle": false,
     "tableResultSettingsMap": {},
     "title": ""
    }
   },
   "outputs": [],
   "source": [
    "# Checagem coluna metodo_de_envio:\n",
    "#   |--> Normal\n",
    "\n",
    "display(df_bronze.groupBy(\"metodo_de_envio\").count())"
   ]
  },
  {
   "cell_type": "code",
   "execution_count": 0,
   "metadata": {
    "application/vnd.databricks.v1+cell": {
     "cellMetadata": {
      "byteLimit": 2048000,
      "rowLimit": 10000
     },
     "inputWidgets": {},
     "nuid": "e51c416a-aef9-445f-812a-7b3610375046",
     "showTitle": false,
     "tableResultSettingsMap": {},
     "title": ""
    }
   },
   "outputs": [],
   "source": [
    "# Checagem coluna ligacoes_do_cliente:\n",
    "#   |--> Normal\n",
    "\n",
    "display(df_bronze.groupBy(\"ligacoes_do_cliente\").count().orderBy(\"ligacoes_do_cliente\", ascending=False))"
   ]
  },
  {
   "cell_type": "code",
   "execution_count": 0,
   "metadata": {
    "application/vnd.databricks.v1+cell": {
     "cellMetadata": {
      "byteLimit": 2048000,
      "rowLimit": 10000
     },
     "inputWidgets": {},
     "nuid": "81baf54b-e5c6-4776-ac7f-8d7e7dbe213e",
     "showTitle": false,
     "tableResultSettingsMap": {},
     "title": ""
    }
   },
   "outputs": [],
   "source": [
    "# Checagem coluna avaliacao_do_cliente:\n",
    "#   |--> Normal\n",
    "\n",
    "display(df_bronze.groupBy(\"avaliacao_do_cliente\").count().orderBy(\"avaliacao_do_cliente\", ascending=False))"
   ]
  },
  {
   "cell_type": "code",
   "execution_count": 0,
   "metadata": {
    "application/vnd.databricks.v1+cell": {
     "cellMetadata": {
      "byteLimit": 2048000,
      "rowLimit": 10000
     },
     "inputWidgets": {},
     "nuid": "29788cd6-062f-4302-b4f3-4f7372a0382e",
     "showTitle": false,
     "tableResultSettingsMap": {},
     "title": ""
    }
   },
   "outputs": [],
   "source": [
    "# Checagem coluna importancia:\n",
    "#   |--> Normal\n",
    "\n",
    "display(df_bronze.groupBy(\"importancia\").count().orderBy(\"count\", ascending=False))"
   ]
  },
  {
   "cell_type": "code",
   "execution_count": 0,
   "metadata": {
    "application/vnd.databricks.v1+cell": {
     "cellMetadata": {
      "byteLimit": 2048000,
      "rowLimit": 10000
     },
     "inputWidgets": {},
     "nuid": "696d95b7-d537-40e8-b70f-1e7973a14354",
     "showTitle": false,
     "tableResultSettingsMap": {},
     "title": ""
    }
   },
   "outputs": [],
   "source": [
    "display(df_bronze.groupBy(\"genero\").count())"
   ]
  },
  {
   "cell_type": "code",
   "execution_count": 0,
   "metadata": {
    "application/vnd.databricks.v1+cell": {
     "cellMetadata": {
      "byteLimit": 2048000,
      "rowLimit": 10000
     },
     "inputWidgets": {},
     "nuid": "a4f4cc04-55e6-4a4d-91d3-32c34f54f00d",
     "showTitle": false,
     "tableResultSettingsMap": {},
     "title": ""
    }
   },
   "outputs": [],
   "source": [
    "display(df_bronze.groupBy(\"desconto\").count())"
   ]
  },
  {
   "cell_type": "code",
   "execution_count": 0,
   "metadata": {
    "application/vnd.databricks.v1+cell": {
     "cellMetadata": {
      "byteLimit": 2048000,
      "rowLimit": 10000
     },
     "inputWidgets": {},
     "nuid": "2cffbb43-2796-4e24-9d25-dcc980c26c15",
     "showTitle": false,
     "tableResultSettingsMap": {},
     "title": ""
    }
   },
   "outputs": [],
   "source": [
    "display(df_bronze.groupBy(\"chegou_no_tempo\").count())"
   ]
  },
  {
   "cell_type": "code",
   "execution_count": 0,
   "metadata": {
    "application/vnd.databricks.v1+cell": {
     "cellMetadata": {
      "byteLimit": 2048000,
      "rowLimit": 10000
     },
     "inputWidgets": {},
     "nuid": "04881630-1af7-4b75-a296-63ad186c53d1",
     "showTitle": false,
     "tableResultSettingsMap": {},
     "title": ""
    }
   },
   "outputs": [],
   "source": [
    "# temos 404 casos de #REF! (linha 18):\n",
    "display(df_bronze.groupBy(\"destino\").count().orderBy(\"count\", ascending=False))"
   ]
  },
  {
   "cell_type": "code",
   "execution_count": 0,
   "metadata": {
    "application/vnd.databricks.v1+cell": {
     "cellMetadata": {
      "byteLimit": 2048000,
      "rowLimit": 10000
     },
     "inputWidgets": {},
     "nuid": "b5ff11b7-6403-45e5-9aff-abb9b9e85a80",
     "showTitle": false,
     "tableResultSettingsMap": {},
     "title": ""
    }
   },
   "outputs": [],
   "source": [
    "df_bronze = df_bronze.withColumn(\n",
    "    \"destino\",\n",
    "    when(col(\"destino\") == \"#REF!\", \"Indefinido\").otherwise(col(\"destino\"))\n",
    "                                )\n"
   ]
  },
  {
   "cell_type": "code",
   "execution_count": 0,
   "metadata": {
    "application/vnd.databricks.v1+cell": {
     "cellMetadata": {
      "byteLimit": 2048000,
      "rowLimit": 10000
     },
     "inputWidgets": {},
     "nuid": "bb4a539f-f7f4-4244-99d3-c03eb5657b94",
     "showTitle": false,
     "tableResultSettingsMap": {},
     "title": ""
    }
   },
   "outputs": [],
   "source": [
    "display(df_bronze.groupBy(\"destino\").count().orderBy(\"count\", ascending=False))"
   ]
  },
  {
   "cell_type": "code",
   "execution_count": 0,
   "metadata": {
    "application/vnd.databricks.v1+cell": {
     "cellMetadata": {
      "byteLimit": 2048000,
      "rowLimit": 10000
     },
     "inputWidgets": {},
     "nuid": "7bd0a357-9be1-44da-abf8-f53ea24b68e7",
     "showTitle": false,
     "tableResultSettingsMap": {},
     "title": ""
    }
   },
   "outputs": [],
   "source": [
    "display(df_bronze.groupBy(\"avaliacao_entrega\").count().orderBy(\"avaliacao_entrega\", ascending=False))"
   ]
  },
  {
   "cell_type": "code",
   "execution_count": 0,
   "metadata": {
    "application/vnd.databricks.v1+cell": {
     "cellMetadata": {
      "byteLimit": 2048000,
      "rowLimit": 10000
     },
     "inputWidgets": {},
     "nuid": "1e057937-0cca-4713-80ed-ffafaece3a42",
     "showTitle": false,
     "tableResultSettingsMap": {},
     "title": ""
    }
   },
   "outputs": [],
   "source": [
    "# Adicionando as colunas de 'valor_total' (preco * qtd_itens) e 'tempo_entrega_dias' (tempo que levou para chegar a carga);\n",
    "\n",
    "df_bronze = (df_bronze.withColumn('valor_total',col('preco') * col('qtd_itens'))\n",
    "                  .withColumn(\"tempo_entrega_dias\", datediff(\"data_entrega\", \"data_envio\"))\n",
    "           )"
   ]
  },
  {
   "cell_type": "code",
   "execution_count": 0,
   "metadata": {
    "application/vnd.databricks.v1+cell": {
     "cellMetadata": {
      "byteLimit": 2048000,
      "rowLimit": 10000
     },
     "inputWidgets": {},
     "nuid": "0e77d72d-e538-4eae-ba33-53e59662d966",
     "showTitle": false,
     "tableResultSettingsMap": {},
     "title": ""
    }
   },
   "outputs": [],
   "source": [
    "display(df_bronze)"
   ]
  },
  {
   "cell_type": "code",
   "execution_count": 0,
   "metadata": {
    "application/vnd.databricks.v1+cell": {
     "cellMetadata": {
      "byteLimit": 2048000,
      "rowLimit": 10000
     },
     "inputWidgets": {},
     "nuid": "fe538c3d-1e9e-460b-9830-3c856d943e23",
     "showTitle": false,
     "tableResultSettingsMap": {},
     "title": ""
    }
   },
   "outputs": [],
   "source": [
    "df_bronze.printSchema()"
   ]
  },
  {
   "cell_type": "code",
   "execution_count": 0,
   "metadata": {
    "application/vnd.databricks.v1+cell": {
     "cellMetadata": {
      "byteLimit": 2048000,
      "rowLimit": 10000
     },
     "inputWidgets": {},
     "nuid": "89851546-beb3-463a-9407-e512bcf6c334",
     "showTitle": false,
     "tableResultSettingsMap": {},
     "title": ""
    }
   },
   "outputs": [],
   "source": [
    "df_bronze.write \\\n",
    "    .format(\"delta\") \\\n",
    "    .mode(\"overwrite\") \\\n",
    "    .option(\"mergeSchema\", \"true\") \\\n",
    "    .save(\"s3a://grao-direto-mmk/silver/grain_logistic_shipping_silver\")"
   ]
  },
  {
   "cell_type": "code",
   "execution_count": 0,
   "metadata": {
    "application/vnd.databricks.v1+cell": {
     "cellMetadata": {
      "byteLimit": 2048000,
      "rowLimit": 10000
     },
     "inputWidgets": {},
     "nuid": "c159df12-a47f-44a5-a7b0-953e01efd0fd",
     "showTitle": false,
     "tableResultSettingsMap": {},
     "title": ""
    }
   },
   "outputs": [],
   "source": [
    "spark.sql(\"CREATE DATABASE IF NOT EXISTS silver\")\n",
    "\n",
    "df_bronze.write.format(\"delta\")\\\n",
    "            .option(\"mergeSchema\", \"true\") \\\n",
    "            .mode(\"overwrite\") \\\n",
    "            .saveAsTable(\"silver.grain_logistic_shipping_silver\")"
   ]
  },
  {
   "cell_type": "code",
   "execution_count": 0,
   "metadata": {
    "application/vnd.databricks.v1+cell": {
     "cellMetadata": {
      "byteLimit": 2048000,
      "implicitDf": true,
      "rowLimit": 10000
     },
     "inputWidgets": {},
     "nuid": "28be65cc-0b1a-46a2-81e5-ea07cc36ab90",
     "showTitle": false,
     "tableResultSettingsMap": {},
     "title": ""
    }
   },
   "outputs": [],
   "source": [
    "%sql\n",
    "SELECT * FROM silver.grain_logistic_shipping_silver"
   ]
  }
 ],
 "metadata": {
  "application/vnd.databricks.v1+notebook": {
   "computePreferences": null,
   "dashboards": [],
   "environmentMetadata": {
    "base_environment": "",
    "environment_version": "2"
   },
   "inputWidgetPreferences": null,
   "language": "python",
   "notebookMetadata": {
    "mostRecentlyExecutedCommandWithImplicitDF": {
     "commandId": 6379374974726190,
     "dataframes": [
      "_sqldf"
     ]
    },
    "pythonIndentUnit": 4
   },
   "notebookName": "Silver_GD",
   "widgets": {}
  },
  "language_info": {
   "name": "python"
  }
 },
 "nbformat": 4,
 "nbformat_minor": 0
}
